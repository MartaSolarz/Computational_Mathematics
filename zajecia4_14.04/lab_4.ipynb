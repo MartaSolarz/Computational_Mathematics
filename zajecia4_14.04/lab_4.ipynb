{
 "cells": [
  {
   "cell_type": "markdown",
   "source": [
    "# Lab 4 - równania nieliniowe"
   ],
   "metadata": {
    "collapsed": false
   }
  },
  {
   "cell_type": "markdown",
   "source": [
    "### Zadanie L4.1.\n",
    "Napisz funkcję $pochodna(f,x,h)$, która przybliża pochodną podanej funkcji\n",
    "rzeczywistej $f$ w punkcie $x$, korzystając z ilorazu różnicowego\n",
    "\n",
    "$$f ′(x) = \\frac{f(x + h) − f (x)}{h}$$\n",
    "\n",
    "- Sprawdź swoją funkcję dla $f (x) := x^2$ oraz $x = 1$ i różnych wartości parametru $h$. Czy można tak dobrać ten parametr, żeby przybliżenie $f ′(1)$ zgadzało się do pięciu cyfr po przecinku?\n",
    "- Czy jest prawdą, że im mniejsza jest wartość $h > 0$, tym przybliżenie jest lepsze?"
   ],
   "metadata": {
    "collapsed": false
   }
  },
  {
   "cell_type": "code",
   "execution_count": 58,
   "outputs": [
    {
     "name": "stdout",
     "output_type": "stream",
     "text": [
      "h=0.1: 2.100000000000002 Błąd: 0.10000000000000187\n",
      "h=0.01: 2.0100000000000007 Błąd: 0.010000000000000675\n",
      "h=0.001: 2.0009999999996975 Błąd: 0.0009999999996974651\n",
      "h=0.0001: 2.000099999999172 Błąd: 9.999999917198465e-05\n",
      "h=1e-05: 2.00001000001393 Błąd: 1.0000013929811757e-05\n",
      "h=5e-05: 2.0000500000039168 Błąd: 5.00000039167503e-05\n",
      "h=1e-06: 2.0000009999243673 Błąd: 9.999243673064484e-07\n",
      "h=1e-18: 0.0 Błąd: 2.0\n"
     ]
    }
   ],
   "source": [
    "def pochodna(f, x, h):\n",
    "    return (f(x+h) - f(x))/h\n",
    "\n",
    "def f_test(x):\n",
    "    return x**2\n",
    "\n",
    "x = 1\n",
    "for h in [0.1, 0.01, 0.001, 0.0001, 0.00001, 0.00005, 0.000001, 1e-18]:\n",
    "    print(f'h={h}:', pochodna(f_test, x, h), \"Błąd:\", abs(pochodna(f_test, x, h)-2))\n",
    "\n",
    "# Odp 1: tak można, np. h=0.000001\n",
    "# Odp 2: nie"
   ],
   "metadata": {
    "collapsed": false
   }
  },
  {
   "cell_type": "markdown",
   "source": [
    "### Zadanie L4.2.\n",
    "Niech $f (x) := \\frac{1}{x}−8$. Znajdź miejsce zerowe tej funkcji wykorzystując metodę bisekcji (scipy.optimize.bisect) zaczynając od przedziału $[0.1, 3]$ przy domyślnych parametrach zbieżności. Określ błąd otrzymanego przybliżenia oraz ilość wykonanych ewaluacji funkcji $f$ ."
   ],
   "metadata": {
    "collapsed": false
   }
  },
  {
   "cell_type": "code",
   "execution_count": 30,
   "outputs": [
    {
     "name": "stdout",
     "output_type": "stream",
     "text": [
      "Miejsce zerowe: 0.125000\n",
      "Wartość w miejscu zerowym: -0.000000\n",
      "Błąd: 0.0000000000\n",
      "Ilość ewaluacji funkcji: 43\n"
     ]
    }
   ],
   "source": [
    "from scipy.optimize import bisect\n",
    "\n",
    "def f(x):\n",
    "    return 1/x - 8\n",
    "\n",
    "a =  0.1\n",
    "b = 3\n",
    "x0 = bisect(f, a, b)\n",
    "print(f\"Miejsce zerowe: {x0:.6f}\")\n",
    "print(f\"Wartość w miejscu zerowym: {f(x0):.6f}\")\n",
    "\n",
    "x = 1/8\n",
    "blad = abs(x0 - x)\n",
    "print(f\"Błąd: {blad:.10f}\")\n",
    "print(f\"Ilość ewaluacji funkcji: {bisect(f, a, b, full_output=True)[1].function_calls}\")"
   ],
   "metadata": {
    "collapsed": false
   }
  },
  {
   "cell_type": "markdown",
   "source": [
    "### Zadanie L4.3.\n",
    "Niech $f (x) := \\frac{1}{x} − 8$. Znajdź miejsce zerowe tej funkcji wykorzystując funkcję scipy.optimize.newton bez podawania pochodnej (metoda siecznych). Jako punkty początkowe wypróbuj liczby: -3, 0.01, 0.15, 1. Dla których punktów otrzymamy zbieżność? Dla tych punktów, dla których metoda jest zbieżna określ błąd otrzymanego przybliżenia oraz ilość wykonanych ewaluacji funkcji $f$ ."
   ],
   "metadata": {
    "collapsed": false
   }
  },
  {
   "cell_type": "code",
   "execution_count": 81,
   "outputs": [
    {
     "name": "stdout",
     "output_type": "stream",
     "text": [
      "Brak zbieżności dla punktu początkowego x0 = -3\n",
      "\n",
      "Miejsce zerowe: 0.125000\n",
      "Wartość w miejscu zerowym: 0.0000\n",
      "Błąd: 0.000000\n",
      "Liczba ewaluacji funkcji: 13\n",
      "\n",
      "Miejsce zerowe: 0.125000\n",
      "Wartość w miejscu zerowym: -0.0000\n",
      "Błąd: 0.000000\n",
      "Liczba ewaluacji funkcji: 7\n",
      "\n",
      "Brak zbieżności dla punktu początkowego x0 = 1\n",
      "\n"
     ]
    }
   ],
   "source": [
    "from scipy.optimize import newton\n",
    "\n",
    "for x0 in [-3, 0.01, 0.15, 1]:\n",
    "    try:\n",
    "        x = newton(f, x0)\n",
    "        print(f\"Miejsce zerowe: {x:.6f}\")\n",
    "        print(f\"Wartość w miejscu zerowym: {f(x):.4f}\")\n",
    "        print(f\"Błąd: {abs(x - 1/8):.6f}\")\n",
    "        print(f\"Liczba ewaluacji funkcji: {newton(f, x0, full_output=True)[1].function_calls}\\n\")\n",
    "    except:\n",
    "        print(f\"Brak zbieżności dla punktu początkowego x0 = {x0}\\n\")\n"
   ],
   "metadata": {
    "collapsed": false
   }
  },
  {
   "cell_type": "markdown",
   "source": [
    "### Zadanie L4.4.\n",
    "Niech $f (x) := \\frac{1}{x} − 8$. Znajdź miejsce zerowe tej funkcji wykorzystując funkcję scipy.optimize.newton podając explicite pochodną $f$ (metoda Newtona). Jako punkty początkowe wypróbuj liczby: -3, 0.01, 0.15, 1. Dla których punktów otrzymamy zbieżność? Dla tych punktów, dla których metoda jest zbieżna określ błąd otrzymanego przybliżenia oraz ilość wykonanych ewaluacji funkcji $f$ ."
   ],
   "metadata": {
    "collapsed": false
   }
  },
  {
   "cell_type": "code",
   "execution_count": 80,
   "outputs": [
    {
     "name": "stdout",
     "output_type": "stream",
     "text": [
      "x0 = -3.00: Derivative was zero. Failed to converge after 8 iterations, value is -1.0795210693868236e+178.\n",
      "x0 = 0.01: miejsce zerowe = 0.1250, liczba iteracji = 9, liczba ewaluacji = 18\n",
      "x0 = 0.15: miejsce zerowe = 0.1250, liczba iteracji = 5, liczba ewaluacji = 10\n",
      "x0 = 1.00: Derivative was zero. Failed to converge after 9 iterations, value is -2.7669942500575578e+215.\n"
     ]
    }
   ],
   "source": [
    "from scipy.optimize import newton\n",
    "\n",
    "def pochodna_f(x):\n",
    "    return -1*x**(-2)\n",
    "\n",
    "def find_root_newton(f, pochodna_f, x0):\n",
    "    root, info = newton(f, x0, fprime=pochodna_f, full_output=True, maxiter=100)\n",
    "    return root, info\n",
    "\n",
    "x0_values = [-3, 0.01, 0.15, 1]\n",
    "for x0 in x0_values:\n",
    "    try:\n",
    "        root, info = find_root_newton(f, pochodna_f, x0)\n",
    "        print(f\"x0 = {x0:.2f}: miejsce zerowe = {root:.4f}, liczba iteracji = {info.iterations}, liczba ewaluacji = {info.function_calls}\")\n",
    "    except RuntimeError as e:\n",
    "        print(f\"x0 = {x0:.2f}: {e}\")\n"
   ],
   "metadata": {
    "collapsed": false
   }
  },
  {
   "cell_type": "markdown",
   "source": [
    "### Zadanie L4.5.\n",
    "Niech $f (x) := \\frac{1}{x} − 8$. Znajdź miejsce zerowe tej funkcji wykorzystując funkcję scipy.optimize.newton podając zamiast pochodnej wartość obliczoną z ilorazu różnicowego, wykorzystując funkcję pochodna z zadania L4.1. Jako punkt początkowy przyjmij: 0.01. Wypróbuj następujące wartości w miejsce parametru $h$: $0.1, 0.01, 10^{−5}, 10^{−30}$. Określ, czy dokładność znalezionego przybliżenia oraz ilość wykonanych iteracji jest podobna jak w metodzie Newtona z pochodną podaną explicite."
   ],
   "metadata": {
    "collapsed": false
   }
  },
  {
   "cell_type": "code",
   "execution_count": 78,
   "outputs": [
    {
     "name": "stdout",
     "output_type": "stream",
     "text": [
      "h = 0.1, x = 0.12500000614063383, \n",
      "      converged: True\n",
      "           flag: 'converged'\n",
      " function_calls: 132\n",
      "     iterations: 66\n",
      "           root: 0.12500000614063383\n",
      "\n",
      "h = 0.01, x = 0.1249999993325446, \n",
      "      converged: True\n",
      "           flag: 'converged'\n",
      " function_calls: 20\n",
      "     iterations: 10\n",
      "           root: 0.1249999993325446\n",
      "\n",
      "h = 1e-05, x = 0.12499999999998708, \n",
      "      converged: True\n",
      "           flag: 'converged'\n",
      " function_calls: 18\n",
      "     iterations: 9\n",
      "           root: 0.12499999999998708\n",
      "\n"
     ]
    },
    {
     "ename": "RuntimeError",
     "evalue": "Derivative was zero. Failed to converge after 1 iterations, value is 0.01.",
     "output_type": "error",
     "traceback": [
      "\u001B[0;31m---------------------------------------------------------------------------\u001B[0m",
      "\u001B[0;31mRuntimeError\u001B[0m                              Traceback (most recent call last)",
      "Cell \u001B[0;32mIn [78], line 9\u001B[0m\n\u001B[1;32m      7\u001B[0m \u001B[38;5;28;01mfor\u001B[39;00m h \u001B[38;5;129;01min\u001B[39;00m [\u001B[38;5;241m0.1\u001B[39m, \u001B[38;5;241m0.01\u001B[39m, \u001B[38;5;241m1e-5\u001B[39m, \u001B[38;5;241m1e-30\u001B[39m]:\n\u001B[1;32m      8\u001B[0m     df \u001B[38;5;241m=\u001B[39m \u001B[38;5;28;01mlambda\u001B[39;00m x: pochodna(f, x, h)\n\u001B[0;32m----> 9\u001B[0m     x \u001B[38;5;241m=\u001B[39m \u001B[43mnewton\u001B[49m\u001B[43m(\u001B[49m\u001B[43mf\u001B[49m\u001B[43m,\u001B[49m\u001B[43m \u001B[49m\u001B[43mx0\u001B[49m\u001B[43m,\u001B[49m\u001B[43m \u001B[49m\u001B[43mfprime\u001B[49m\u001B[38;5;241;43m=\u001B[39;49m\u001B[43mdf\u001B[49m\u001B[43m,\u001B[49m\u001B[43m \u001B[49m\u001B[43mmaxiter\u001B[49m\u001B[38;5;241;43m=\u001B[39;49m\u001B[38;5;241;43m1000\u001B[39;49m\u001B[43m)\u001B[49m\n\u001B[1;32m     10\u001B[0m     \u001B[38;5;28mprint\u001B[39m(\u001B[38;5;124mf\u001B[39m\u001B[38;5;124m\"\u001B[39m\u001B[38;5;124mh = \u001B[39m\u001B[38;5;132;01m{\u001B[39;00mh\u001B[38;5;132;01m}\u001B[39;00m\u001B[38;5;124m, x = \u001B[39m\u001B[38;5;132;01m{\u001B[39;00mx\u001B[38;5;132;01m}\u001B[39;00m\u001B[38;5;124m, \u001B[39m\u001B[38;5;130;01m\\n\u001B[39;00m\u001B[38;5;132;01m{\u001B[39;00mnewton(f, x0, fprime\u001B[38;5;241m=\u001B[39mdf, full_output\u001B[38;5;241m=\u001B[39m\u001B[38;5;28;01mTrue\u001B[39;00m, maxiter\u001B[38;5;241m=\u001B[39m\u001B[38;5;241m1000\u001B[39m)[\u001B[38;5;241m1\u001B[39m]\u001B[38;5;132;01m}\u001B[39;00m\u001B[38;5;124m\"\u001B[39m)\n\u001B[1;32m     11\u001B[0m     \u001B[38;5;28mprint\u001B[39m()\n",
      "File \u001B[0;32m~/.local/lib/python3.8/site-packages/scipy/optimize/_zeros_py.py:301\u001B[0m, in \u001B[0;36mnewton\u001B[0;34m(func, x0, fprime, args, tol, maxiter, fprime2, x1, rtol, full_output, disp)\u001B[0m\n\u001B[1;32m    297\u001B[0m \u001B[38;5;28;01mif\u001B[39;00m disp:\n\u001B[1;32m    298\u001B[0m     msg \u001B[38;5;241m+\u001B[39m\u001B[38;5;241m=\u001B[39m (\n\u001B[1;32m    299\u001B[0m         \u001B[38;5;124m\"\u001B[39m\u001B[38;5;124m Failed to converge after \u001B[39m\u001B[38;5;132;01m%d\u001B[39;00m\u001B[38;5;124m iterations, value is \u001B[39m\u001B[38;5;132;01m%s\u001B[39;00m\u001B[38;5;124m.\u001B[39m\u001B[38;5;124m\"\u001B[39m\n\u001B[1;32m    300\u001B[0m         \u001B[38;5;241m%\u001B[39m (itr \u001B[38;5;241m+\u001B[39m \u001B[38;5;241m1\u001B[39m, p0))\n\u001B[0;32m--> 301\u001B[0m     \u001B[38;5;28;01mraise\u001B[39;00m \u001B[38;5;167;01mRuntimeError\u001B[39;00m(msg)\n\u001B[1;32m    302\u001B[0m warnings\u001B[38;5;241m.\u001B[39mwarn(msg, \u001B[38;5;167;01mRuntimeWarning\u001B[39;00m)\n\u001B[1;32m    303\u001B[0m \u001B[38;5;28;01mreturn\u001B[39;00m _results_select(\n\u001B[1;32m    304\u001B[0m     full_output, (p0, funcalls, itr \u001B[38;5;241m+\u001B[39m \u001B[38;5;241m1\u001B[39m, _ECONVERR))\n",
      "\u001B[0;31mRuntimeError\u001B[0m: Derivative was zero. Failed to converge after 1 iterations, value is 0.01."
     ]
    }
   ],
   "source": [
    "from scipy.optimize import newton\n",
    "\n",
    "def f(x):\n",
    "    return 1/x - 8\n",
    "\n",
    "x0 = 0.01\n",
    "for h in [0.1, 0.01, 1e-5, 1e-30]:\n",
    "    df = lambda x: pochodna(f, x, h)\n",
    "    x = newton(f, x0, fprime=df, maxiter=1000)\n",
    "    print(f\"h = {h}, x = {x}, \\n{newton(f, x0, fprime=df, full_output=True, maxiter=1000)[1]}\")\n",
    "    print()\n"
   ],
   "metadata": {
    "collapsed": false
   }
  },
  {
   "cell_type": "markdown",
   "source": [
    "### Zadanie L4.6.\n",
    "Niech $F (x, y) := [xy^2 + x − 3y^2 − 3, x^2y^3 + 2y − 5x^2y^2 − 10]$. Wykorzystując funkcję scipy.optimize.fsolve znajdź miejsce zerowe tej funkcji znajdujące się w kwadracie $[0, 5]^2$ i wybierając taki punkt początkowy, dla którego metoda osiągnie zbieżność. Określ ilość wykonanych ewaluacji funkcji $F$."
   ],
   "metadata": {
    "collapsed": false
   }
  },
  {
   "cell_type": "code",
   "execution_count": 84,
   "outputs": [
    {
     "name": "stdout",
     "output_type": "stream",
     "text": [
      "Miejsce zerowe:  [3. 5.]\n",
      "Liczba ewaluacji funkcji F:  14\n"
     ]
    }
   ],
   "source": [
    "from scipy.optimize import fsolve\n",
    "\n",
    "counter = 0\n",
    "\n",
    "def F(x):\n",
    "    global counter\n",
    "    counter += 1\n",
    "    y = x[1]\n",
    "    x = x[0]\n",
    "    return [x*y**2 + x - 3*y**2 - 3, x**2*y**3 + 2*y - 5*x**2*y**2 - 10]\n",
    "\n",
    "\n",
    "x0 = [4, 4]\n",
    "sol = fsolve(F, x0)\n",
    "print(\"Miejsce zerowe: \", sol)\n",
    "print(\"Liczba ewaluacji funkcji F: \", counter)\n"
   ],
   "metadata": {
    "collapsed": false
   }
  }
 ],
 "metadata": {
  "kernelspec": {
   "display_name": "Python 3",
   "language": "python",
   "name": "python3"
  },
  "language_info": {
   "codemirror_mode": {
    "name": "ipython",
    "version": 2
   },
   "file_extension": ".py",
   "mimetype": "text/x-python",
   "name": "python",
   "nbconvert_exporter": "python",
   "pygments_lexer": "ipython2",
   "version": "2.7.6"
  }
 },
 "nbformat": 4,
 "nbformat_minor": 0
}
